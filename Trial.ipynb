{
 "cells": [
  {
   "cell_type": "code",
   "execution_count": 4,
   "metadata": {},
   "outputs": [
    {
     "name": "stdout",
     "output_type": "stream",
     "text": [
      "Requirement already satisfied: matplotlib in /home/siddharth/miniconda3/envs/RA/lib/python3.9/site-packages (3.8.2)\n",
      "Requirement already satisfied: imageio in /home/siddharth/miniconda3/envs/RA/lib/python3.9/site-packages (2.32.0)\n",
      "Requirement already satisfied: contourpy>=1.0.1 in /home/siddharth/miniconda3/envs/RA/lib/python3.9/site-packages (from matplotlib) (1.2.0)\n",
      "Requirement already satisfied: cycler>=0.10 in /home/siddharth/miniconda3/envs/RA/lib/python3.9/site-packages (from matplotlib) (0.12.1)\n",
      "Requirement already satisfied: fonttools>=4.22.0 in /home/siddharth/miniconda3/envs/RA/lib/python3.9/site-packages (from matplotlib) (4.45.0)\n",
      "Requirement already satisfied: kiwisolver>=1.3.1 in /home/siddharth/miniconda3/envs/RA/lib/python3.9/site-packages (from matplotlib) (1.4.5)\n",
      "Requirement already satisfied: numpy<2,>=1.21 in /home/siddharth/miniconda3/envs/RA/lib/python3.9/site-packages (from matplotlib) (1.26.0)\n",
      "Requirement already satisfied: packaging>=20.0 in /home/siddharth/miniconda3/envs/RA/lib/python3.9/site-packages (from matplotlib) (23.2)\n",
      "Requirement already satisfied: pillow>=8 in /home/siddharth/miniconda3/envs/RA/lib/python3.9/site-packages (from matplotlib) (10.0.1)\n",
      "Requirement already satisfied: pyparsing>=2.3.1 in /home/siddharth/miniconda3/envs/RA/lib/python3.9/site-packages (from matplotlib) (3.1.1)\n",
      "Requirement already satisfied: python-dateutil>=2.7 in /home/siddharth/miniconda3/envs/RA/lib/python3.9/site-packages (from matplotlib) (2.8.2)\n",
      "Requirement already satisfied: importlib-resources>=3.2.0 in /home/siddharth/miniconda3/envs/RA/lib/python3.9/site-packages (from matplotlib) (6.1.1)\n",
      "Requirement already satisfied: zipp>=3.1.0 in /home/siddharth/miniconda3/envs/RA/lib/python3.9/site-packages (from importlib-resources>=3.2.0->matplotlib) (3.17.0)\n",
      "Requirement already satisfied: six>=1.5 in /home/siddharth/miniconda3/envs/RA/lib/python3.9/site-packages (from python-dateutil>=2.7->matplotlib) (1.16.0)\n"
     ]
    }
   ],
   "source": [
    "!pip install matplotlib imageio"
   ]
  },
  {
   "cell_type": "code",
   "execution_count": 11,
   "metadata": {},
   "outputs": [],
   "source": [
    "import matplotlib.pyplot as plt\n",
    "import numpy as np\n",
    "\n",
    "# Example data\n",
    "x = np.linspace(0, 2 * np.pi, 100)\n",
    "\n",
    "# Generate and save each plot\n",
    "filenames = []\n",
    "for i in range(10):\n",
    "    y = np.sin(x + i * 0.1)\n",
    "    plt.plot(x, y)\n",
    "    filename = f'plot_{i}.png'\n",
    "    plt.savefig(filename)\n",
    "    filenames.append(filename)\n",
    "    plt.close()\n"
   ]
  },
  {
   "cell_type": "code",
   "execution_count": 12,
   "metadata": {},
   "outputs": [
    {
     "name": "stderr",
     "output_type": "stream",
     "text": [
      "/tmp/ipykernel_161886/1420068937.py:6: DeprecationWarning: Starting with ImageIO v3 the behavior of this function will switch to that of iio.v3.imread. To keep the current behavior (and make this warning disappear) use `import imageio.v2 as imageio` or call `imageio.v2.imread` directly.\n",
      "  image = imageio.imread(filename)\n"
     ]
    }
   ],
   "source": [
    "import imageio\n",
    "\n",
    "# Create a gif from the saved images\n",
    "with imageio.get_writer('animated_plot.gif', mode='I', duration=1) as writer:\n",
    "    for filename in filenames:\n",
    "        image = imageio.imread(filename)\n",
    "        writer.append_data(image)\n"
   ]
  },
  {
   "cell_type": "code",
   "execution_count": 10,
   "metadata": {},
   "outputs": [
    {
     "name": "stderr",
     "output_type": "stream",
     "text": [
      "/tmp/ipykernel_161886/1448254091.py:23: DeprecationWarning: Starting with ImageIO v3 the behavior of this function will switch to that of iio.v3.imread. To keep the current behavior (and make this warning disappear) use `import imageio.v2 as imageio` or call `imageio.v2.imread` directly.\n",
      "  image = imageio.imread(buf)\n"
     ]
    }
   ],
   "source": [
    "import matplotlib.pyplot as plt\n",
    "import numpy as np\n",
    "import imageio\n",
    "from io import BytesIO\n",
    "\n",
    "# Example data\n",
    "x = np.linspace(0, 2 * np.pi, 100)\n",
    "\n",
    "# Create a GIF writer\n",
    "with imageio.get_writer('animated_plot.gif', mode='I', duration=0.2) as writer:\n",
    "    for i in range(10):\n",
    "        y = np.sin(x + i * 0.1)\n",
    "        \n",
    "        # Create a plot and save it to a buffer\n",
    "        fig, ax = plt.subplots()\n",
    "        ax.plot(x, y)\n",
    "        \n",
    "        buf = BytesIO()\n",
    "        plt.savefig(buf, format='png')\n",
    "        plt.close(fig)\n",
    "        \n",
    "        buf.seek(0)\n",
    "        image = imageio.imread(buf)\n",
    "        writer.append_data(image)\n",
    "        \n",
    "        buf.close()"
   ]
  }
 ],
 "metadata": {
  "kernelspec": {
   "display_name": "RA",
   "language": "python",
   "name": "python3"
  },
  "language_info": {
   "codemirror_mode": {
    "name": "ipython",
    "version": 3
   },
   "file_extension": ".py",
   "mimetype": "text/x-python",
   "name": "python",
   "nbconvert_exporter": "python",
   "pygments_lexer": "ipython3",
   "version": "3.9.18"
  }
 },
 "nbformat": 4,
 "nbformat_minor": 2
}
