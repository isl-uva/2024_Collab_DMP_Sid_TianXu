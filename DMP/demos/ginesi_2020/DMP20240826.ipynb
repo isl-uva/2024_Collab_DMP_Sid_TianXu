{
 "cells": [
  {
   "cell_type": "code",
   "execution_count": null,
   "id": "a6dfc8c4-c17f-4da0-97a8-c991d75b59ee",
   "metadata": {},
   "outputs": [],
   "source": [
    "import numpy as np\n",
    "import matplotlib.pyplot as plt\n",
    "from mpl_toolkits.mplot3d import Axes3D\n",
    "from io import BytesIO"
   ]
  },
  {
   "cell_type": "code",
   "execution_count": null,
   "id": "faf27f22-ce71-4401-ae80-a9ba7dfebaa5",
   "metadata": {},
   "outputs": [],
   "source": [
    "from dmp.dmp import DMPs_cartesian\n",
    "from dmp.obstacle_superquadric import Obstacle_Dynamic as sq_dyn"
   ]
  },
  {
   "cell_type": "code",
   "execution_count": null,
   "id": "33988bad-e41c-48d4-bab7-4f00d03afba3",
   "metadata": {},
   "outputs": [],
   "source": [
    "# Trajectory 1\n",
    "# goal_move_to_peg = np.array([0.488574563751,\n",
    "#                             -0.184923096437,\n",
    "#                             0.262908357465])\n",
    "\n",
    "# goal_move_to_ring = np.array([0.505577739181,\n",
    "#                               0.310174815877,\n",
    "#                               0.045214734967])\n",
    "\n",
    "# x0_move_to_peg = goal_move_to_ring\n",
    "\n",
    "# x0_move_to_ring = np.array([0.307, 0, 0.483])\n",
    "\n"
   ]
  },
  {
   "cell_type": "code",
   "execution_count": null,
   "id": "0bd336b0-476c-4223-9681-18488b0e4293",
   "metadata": {},
   "outputs": [],
   "source": [
    "# #DMP Ini\n",
    "# K=1050.0\n",
    "# alpha_s = 4.0\n",
    "# tol=0.01\n",
    "\n",
    "# MP = DMPs_cartesian(K=K, alpha_s=alpha_s, tol=tol)"
   ]
  },
  {
   "cell_type": "code",
   "execution_count": null,
   "id": "2915edce-cdc1-4c55-94b8-2a4188e1c67c",
   "metadata": {},
   "outputs": [],
   "source": [
    "# #DMP evolution\n",
    "# MP.x_0=x0_move_to_ring\n",
    "# MP.x_goal=goal_move_to_ring\n",
    "# MP.reset_state()\n",
    "# x_track_static_toring = np.array([MP.x_0])\n",
    "# flag_conv = False\n",
    "# while not flag_conv:\n",
    "#     MP.step()\n",
    "#     x_track_static_toring = np.append(x_track_static_toring, np.array([MP.x]), axis=0)\n",
    "#     flag_conv = np.linalg.norm(MP.x - MP.x_goal) < MP.tol"
   ]
  },
  {
   "cell_type": "code",
   "execution_count": null,
   "id": "33350a87-bf86-4363-87d9-26379017fd03",
   "metadata": {},
   "outputs": [],
   "source": [
    "# #DMP 3D plot\n",
    "# fig=plt.figure()\n",
    "# ax = fig.add_subplot(111, projection='3d')\n",
    "# ax.plot(x_track_static_toring[:, 0], x_track_static_toring[:, 1], x_track_static_toring[:, 2],'-k', linewidth=1.5)"
   ]
  },
  {
   "cell_type": "code",
   "execution_count": null,
   "id": "8da97996-b41f-416a-a131-24c5398896df",
   "metadata": {},
   "outputs": [],
   "source": [
    "# Trajectory 2\n",
    "# Trajectory\n",
    "t_des = np.linspace(0.0, 1.0, 1000)\n",
    "gamma = np.transpose(\n",
    "    [np.cos(np.pi * t_des),\n",
    "    np.sin(np.pi * t_des),\n",
    "    t_des * 0.5])\n",
    "\n",
    "gamma2 = np.transpose(\n",
    "    [np.cos(np.pi * t_des),\n",
    "    1-np.sin(np.pi * t_des),\n",
    "    t_des * 0.5])\n"
   ]
  },
  {
   "cell_type": "code",
   "execution_count": null,
   "id": "189c7b11-a8c5-484a-8627-7b1828075f59",
   "metadata": {},
   "outputs": [],
   "source": [
    "#DMP Ini\n",
    "K=1050.0\n",
    "alpha_s = 4.0\n",
    "tol=0.01\n",
    "dt=0.01\n",
    "\n",
    "MP = DMPs_cartesian(K=K, alpha_s=alpha_s, tol=tol)\n",
    "MP2= DMPs_cartesian(K=K, alpha_s=alpha_s, tol=tol)"
   ]
  },
  {
   "cell_type": "code",
   "execution_count": null,
   "id": "9cb10047",
   "metadata": {},
   "outputs": [],
   "source": [
    "print(gamma2)"
   ]
  },
  {
   "cell_type": "code",
   "execution_count": null,
   "id": "b3e124b9-4049-44cc-b9e1-9e0fca511ec7",
   "metadata": {},
   "outputs": [],
   "source": [
    "#DMP try\n",
    "MP.imitate_path(t_des=t_des, x_des=gamma)\n",
    "MP2.imitate_path(t_des=t_des, x_des=gamma2)\n",
    "\n",
    "gamma_, _, _, _ = MP.rollout()\n",
    "gamma2_, _, _, _ = MP2.rollout()\n",
    "t_des_ = np.linspace(0.0, 1.0, np.shape(gamma)[0])"
   ]
  },
  {
   "cell_type": "code",
   "execution_count": null,
   "id": "4f0e2366-e5ac-40b9-a50b-52f0cbb86cde",
   "metadata": {},
   "outputs": [],
   "source": [
    "# Plot Ellipsoid\n",
    "# Define the ellipsoid parameters\n",
    "a = 0.2  # Semi-axis length in the x-direction\n",
    "b = 0.1  # Semi-axis length in the y-direction\n",
    "c = 0.15  # Semi-axis length in the z-direction\n",
    "\n",
    "# Create a grid of values for theta and phi\n",
    "theta = np.linspace(0, 2 * np.pi, 20)\n",
    "phi = np.linspace(0, np.pi, 10)\n",
    "theta, phi = np.meshgrid(theta, phi)\n",
    "\n",
    "# Parametric equations for the ellipsoid\n",
    "x = a * np.sin(phi) * np.cos(theta) + 0.0\n",
    "y = b * np.sin(phi) * np.sin(theta) + 1.0\n",
    "z = c * np.cos(phi) + 0.25"
   ]
  },
  {
   "cell_type": "code",
   "execution_count": null,
   "id": "5fc948a5-287b-4c50-b612-ca3e19d69ba4",
   "metadata": {},
   "outputs": [],
   "source": [
    "MP.x_0 = gamma_[0]\n",
    "MP.x_goal = gamma_[-1]\n",
    "\n",
    "MP2.x_0 = gamma2_[0]\n",
    "MP2.x_goal = gamma2_[-1]\n",
    "\n",
    "MP.reset_state()\n",
    "MP2.reset_state()\n",
    "gamma_tra = np.array([MP.x_0])\n",
    "gamma2_tra= np.array([MP2.x_0])"
   ]
  },
  {
   "cell_type": "code",
   "execution_count": null,
   "id": "639e3e52-23db-4276-9b6d-d3e102585fea",
   "metadata": {},
   "outputs": [],
   "source": [
    "dyn_lambda = 10.0\n",
    "dyn_eta = 1.0\n",
    "dyn_beta = 1.0/2\n",
    "\n",
    "# obstacle\n",
    "center_e=np.array([0.0,1.0,0.25])\n",
    "axes_e=np.array([a,b,c])\n",
    "v_e = np.array([0.0,0.2,0.0])\n",
    "\n",
    "#agent\n",
    "center_agent1=np.array(MP.x_0)\n",
    "center_agent2=np.array(MP2.x_0)\n",
    "\n",
    "axes_agent=np.array([0.1,0.1,0.1])\n",
    "\n",
    "v_agent1=np.array([0.0,0.0,0.0])\n",
    "v_agent2=np.array([0.0,0.0,0.0])\n",
    "\n",
    "\n",
    "obst_dynamic = sq_dyn(center=center_e, axis=axes_e, coeffs=np.array([1,1,2]), lmbda=dyn_lambda, beta=dyn_beta, eta=dyn_eta)\n",
    "agent1_dynamic= sq_dyn(center=center_agent2, axis=axes_agent, coeffs=np.array([1,1,1]), lmbda=dyn_lambda, beta=dyn_beta, eta=dyn_eta)\n",
    "agent2_dynamic= sq_dyn(center=center_agent1, axis=axes_agent, coeffs=np.array([1,1,1]), lmbda=dyn_lambda, beta=dyn_beta, eta=dyn_eta)\n",
    "\n",
    "\n"
   ]
  },
  {
   "cell_type": "code",
   "execution_count": null,
   "id": "7180402f-7fd4-4307-81ad-74a262e50bb1",
   "metadata": {},
   "outputs": [],
   "source": [
    "def perturb_dynamic_agent1(x, v):\n",
    "    out = obst_dynamic.gen_external_force(x, v-v_e)+\\\n",
    "    agent1_dynamic.gen_external_force(x,v-v_agent2)\n",
    "    # print(out)\n",
    "    return out"
   ]
  },
  {
   "cell_type": "code",
   "execution_count": null,
   "id": "8d86b36e-db2f-4af7-a809-b3db89045361",
   "metadata": {},
   "outputs": [],
   "source": [
    "def perturb_dynamic_agent2(x, v):\n",
    "    out = obst_dynamic.gen_external_force(x, v-v_e)+\\\n",
    "    agent2_dynamic.gen_external_force(x,v-v_agent1)\n",
    "    return out"
   ]
  },
  {
   "cell_type": "code",
   "execution_count": null,
   "id": "9f3c70e2-809b-41a3-b828-9bae812736c7",
   "metadata": {},
   "outputs": [],
   "source": [
    "#DMP 3D plot\n",
    "def plotresult():\n",
    "    fig=plt.figure(figsize=(10, 10))\n",
    "    ax = fig.add_subplot(111, projection='3d')\n",
    "    ax.plot(gamma_[:, 0], gamma_[:, 1], gamma_[:, 2],'--k', linewidth=1.5)\n",
    "    ax.plot(gamma2_[:, 0], gamma2_[:, 1], gamma2_[:, 2],'--k', linewidth=1.5)\n",
    "    # ax.plot(gamma[:, 0], gamma[:, 1], gamma[:, 2],'-g', linewidth=1.5)\n",
    "    ax.plot(gamma_tra[:, 0], gamma_tra[:, 1], gamma_tra[:, 2],'-r', linewidth=1.5)\n",
    "    ax.plot(gamma2_tra[:, 0], gamma2_tra[:, 1], gamma2_tra[:, 2],'-r', linewidth=1.5)\n",
    "    ax.plot_surface(x, y, z, color='b', alpha=0.3, edgecolor=(0, 0, 0, 0.1))  # Use alpha for transparency\n",
    "    ax.plot_surface(x_, y_, z_, color='r', alpha=0.3, edgecolor=(0, 0, 0, 0.1))  # Use alpha for transparency\n",
    "    \n",
    "    ax.set_xlabel('X axis')\n",
    "    ax.set_ylabel('Y axis')\n",
    "    ax.set_zlabel('Z axis')\n",
    "    \n",
    "    ax.view_init(elev=10, azim=20)\n",
    "    \n",
    "    # Manually adjust the subplot margins\n",
    "    plt.subplots_adjust(left=0.1, right=0.9, top=0.9, bottom=0.1)\n",
    "    plt.draw()         # Redraw the current figure\n",
    "    plt.pause(0.1) \n",
    "    buf = BytesIO()\n",
    "    plt.savefig(buf, format=\"png\")\n",
    "    \n",
    "    "
   ]
  },
  {
   "cell_type": "code",
   "execution_count": null,
   "id": "41283083-a738-49f0-b46c-9cdb25709a8d",
   "metadata": {},
   "outputs": [],
   "source": [
    "plt.ion()\n",
    "\n",
    "flag_conv = False\n",
    "flag_conv2 = False\n",
    "total_time=0\n",
    "\n",
    "while not (flag_conv and flag_conv2):\n",
    "    obst_dynamic.center=obst_dynamic.center+v_e*dt\n",
    "    total_time += dt\n",
    "    \n",
    "    close_flag= np.linalg.norm(MP.x - MP2.x)>0.2\n",
    "    # close_flag=True\n",
    "\n",
    "        # Parametric equations for the ellipsoid\n",
    "    x_ = a * np.sin(phi) * np.cos(theta) + obst_dynamic.center[0]\n",
    "    y_ = b * np.sin(phi) * np.sin(theta) + obst_dynamic.center[1]\n",
    "    z_ = c * np.cos(phi) + obst_dynamic.center[2]\n",
    "\n",
    "    if not close_flag:\n",
    "        print(\"agent1 stop\")\n",
    "\n",
    "    if (not flag_conv) and close_flag:\n",
    "        MP.step(external_force=perturb_dynamic_agent1)\n",
    "        gamma_tra = np.append(gamma_tra, np.array([MP.x]), axis=0)\n",
    "        flag_conv = np.linalg.norm(MP.x - MP.x_goal) < MP.tol\n",
    "        agent2_dynamic.center=np.array(MP.x)\n",
    "        v_agent1=np.array(MP.dx)\n",
    "    \n",
    "\n",
    "    if not flag_conv2:\n",
    "        MP2.step(external_force=perturb_dynamic_agent2)\n",
    "        gamma2_tra = np.append(gamma2_tra, np.array([MP2.x]), axis=0)\n",
    "        flag_conv2 = np.linalg.norm(MP2.x - MP2.x_goal) < MP2.tol\n",
    "        agent1_dynamic.center=np.array(MP2.x)\n",
    "        v_agent2=np.array(MP2.dx)\n",
    "\n",
    "\n",
    "    if flag_conv:\n",
    "        print(\"agent1 achieve goal\")\n",
    "\n",
    "    if flag_conv2:\n",
    "        print(\"agent2 achieve goal\")\n",
    "    \n",
    "    plotresult()\n",
    "\n",
    "\n",
    "print(total_time)\n",
    "    "
   ]
  },
  {
   "cell_type": "code",
   "execution_count": null,
   "id": "41fae5e0-219b-4e7c-a569-17bd9d5af942",
   "metadata": {},
   "outputs": [],
   "source": []
  },
  {
   "cell_type": "code",
   "execution_count": null,
   "id": "cebf4c8a-4cbb-4148-b6a6-1496032bb35f",
   "metadata": {},
   "outputs": [],
   "source": [
    "gamma_[-1]"
   ]
  },
  {
   "cell_type": "code",
   "execution_count": null,
   "id": "d4ccd49a-68eb-4dbd-b7f4-c2128ee2b37c",
   "metadata": {},
   "outputs": [],
   "source": [
    "gamma_tra[-1]"
   ]
  },
  {
   "cell_type": "code",
   "execution_count": null,
   "id": "f51d9a1d-3e4d-45a0-b4a7-1f51515db762",
   "metadata": {},
   "outputs": [],
   "source": [
    "def my_function():\n",
    "    print(v_e)"
   ]
  },
  {
   "cell_type": "code",
   "execution_count": null,
   "id": "c61cab8d-55b5-4f85-8b3c-ed11a91edaec",
   "metadata": {},
   "outputs": [],
   "source": [
    "for i in range(5):\n",
    "    my_function()\n",
    "    v_e=v_e+1"
   ]
  },
  {
   "cell_type": "code",
   "execution_count": null,
   "id": "0a429e97-3f86-4a2c-bad3-7397880ba18e",
   "metadata": {},
   "outputs": [],
   "source": [
    "A=np.array([1,2])\n",
    "B=np.array([A])"
   ]
  },
  {
   "cell_type": "code",
   "execution_count": null,
   "id": "d247dae2-c22c-43cd-abb0-4168bc2bdb78",
   "metadata": {},
   "outputs": [],
   "source": [
    "print(A)\n",
    "print(B)"
   ]
  },
  {
   "cell_type": "code",
   "execution_count": null,
   "id": "059c1507-9b02-443e-a623-0a4433e68ffa",
   "metadata": {},
   "outputs": [],
   "source": [
    "plotresult()"
   ]
  },
  {
   "cell_type": "code",
   "execution_count": null,
   "id": "bac8ff38-799e-4cb6-b815-52e462c37b3f",
   "metadata": {},
   "outputs": [],
   "source": [
    "print(flag_conv)\n",
    "print(flag_conv2)"
   ]
  },
  {
   "cell_type": "code",
   "execution_count": null,
   "id": "946cf254-e1cc-4444-b12a-72788e524f59",
   "metadata": {},
   "outputs": [],
   "source": [
    "gamma_tra[-1]"
   ]
  },
  {
   "cell_type": "code",
   "execution_count": null,
   "id": "b809e8ce-f338-4afc-8dfa-4f3e3c5ff7ef",
   "metadata": {},
   "outputs": [],
   "source": [
    "if False:\n",
    "    print(\"hello\")"
   ]
  },
  {
   "cell_type": "code",
   "execution_count": null,
   "id": "6e8bdc71-bde7-4e5b-98f0-ac06769b391b",
   "metadata": {},
   "outputs": [],
   "source": [
    "A=np.array([1,2,3])\n",
    "print(A.ndim)\n",
    "A.reshape(1,-1)"
   ]
  },
  {
   "cell_type": "code",
   "execution_count": null,
   "id": "af7d334d-db7e-4b28-963a-e98607f2686c",
   "metadata": {},
   "outputs": [],
   "source": [
    "A"
   ]
  },
  {
   "cell_type": "code",
   "execution_count": null,
   "id": "7a2ce167-af39-4546-9c18-901800f4aa70",
   "metadata": {},
   "outputs": [],
   "source": [
    "A"
   ]
  }
 ],
 "metadata": {
  "kernelspec": {
   "display_name": "Python 3 (ipykernel)",
   "language": "python",
   "name": "python3"
  },
  "language_info": {
   "codemirror_mode": {
    "name": "ipython",
    "version": 3
   },
   "file_extension": ".py",
   "mimetype": "text/x-python",
   "name": "python",
   "nbconvert_exporter": "python",
   "pygments_lexer": "ipython3",
   "version": "3.9.18"
  }
 },
 "nbformat": 4,
 "nbformat_minor": 5
}
