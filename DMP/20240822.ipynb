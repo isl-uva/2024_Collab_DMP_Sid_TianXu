{
 "cells": [
  {
   "cell_type": "code",
   "execution_count": 1,
   "id": "f3a465c7-2f83-45f9-8dcc-c7ae4399743b",
   "metadata": {},
   "outputs": [],
   "source": [
    "import numpy as np\n",
    "from scipy import sparse"
   ]
  },
  {
   "cell_type": "code",
   "execution_count": 3,
   "id": "ea9d95dc-fdc1-4162-a1b4-e68056ec6c85",
   "metadata": {},
   "outputs": [],
   "source": [
    "n= 501\n",
    "d2_p = np.ones([n-1])\n",
    "d2_p[0] = -5.\n",
    "d2_m = np.ones([n-1])\n",
    "d2_m[-1] = -5.\n",
    "d2_c = - 2. * np.ones([n])\n",
    "d2_c[0] = 2.\n",
    "d2_c[-1] = 2.\n",
    "    "
   ]
  },
  {
   "cell_type": "code",
   "execution_count": 5,
   "id": "81355105-764b-4e4a-afe2-8c471e2db2fa",
   "metadata": {},
   "outputs": [],
   "source": [
    "D2 = sparse.diags([d2_p, d2_c, d2_m], [1, 0, -1]).toarray()"
   ]
  },
  {
   "cell_type": "code",
   "execution_count": 6,
   "id": "537ec51b-a102-47f0-a58d-6746ce600467",
   "metadata": {},
   "outputs": [
    {
     "data": {
      "text/plain": [
       "array([[ 2., -5.,  0., ...,  0.,  0.,  0.],\n",
       "       [ 1., -2.,  1., ...,  0.,  0.,  0.],\n",
       "       [ 0.,  1., -2., ...,  0.,  0.,  0.],\n",
       "       ...,\n",
       "       [ 0.,  0.,  0., ..., -2.,  1.,  0.],\n",
       "       [ 0.,  0.,  0., ...,  1., -2.,  1.],\n",
       "       [ 0.,  0.,  0., ...,  0., -5.,  2.]])"
      ]
     },
     "execution_count": 6,
     "metadata": {},
     "output_type": "execute_result"
    }
   ],
   "source": [
    "D2"
   ]
  },
  {
   "cell_type": "code",
   "execution_count": 7,
   "id": "c10b5bce-64b4-4c47-9a0d-d02b0ec69f4a",
   "metadata": {},
   "outputs": [
    {
     "name": "stdout",
     "output_type": "stream",
     "text": [
      "[10, 1, 20, 3, 30, 5]\n"
     ]
    }
   ],
   "source": [
    "state = [0, 1, 2, 3, 4, 5]\n",
    "x = [10, 20, 30]\n",
    "\n",
    "state[0::2] = x\n",
    "print(state)"
   ]
  },
  {
   "cell_type": "code",
   "execution_count": 8,
   "id": "79201bab-2140-4354-b51c-079edbca42ba",
   "metadata": {},
   "outputs": [
    {
     "ename": "SyntaxError",
     "evalue": "invalid syntax (2432778293.py, line 1)",
     "output_type": "error",
     "traceback": [
      "\u001b[0;36m  Cell \u001b[0;32mIn[8], line 1\u001b[0;36m\u001b[0m\n\u001b[0;31m    [0::2]\u001b[0m\n\u001b[0m      ^\u001b[0m\n\u001b[0;31mSyntaxError\u001b[0m\u001b[0;31m:\u001b[0m invalid syntax\n"
     ]
    }
   ],
   "source": [
    "[0::2]"
   ]
  },
  {
   "cell_type": "code",
   "execution_count": 9,
   "id": "fae60b7b-a56b-47bc-90fb-d8049cccbb9f",
   "metadata": {},
   "outputs": [
    {
     "name": "stdout",
     "output_type": "stream",
     "text": [
      "[10, 20, 30]\n"
     ]
    }
   ],
   "source": [
    "print(state[0::2])"
   ]
  },
  {
   "cell_type": "code",
   "execution_count": 10,
   "id": "e7651598-4333-47ab-af6f-fc18fa5b7183",
   "metadata": {},
   "outputs": [
    {
     "name": "stdout",
     "output_type": "stream",
     "text": [
      "[1, 3, 5, 7, 9]\n",
      "[2, 4, 6, 8, 10]\n"
     ]
    }
   ],
   "source": [
    "A=[1,2,3,4,5,6,7,8,9,10]\n",
    "print(A[0::2])\n",
    "print(A[1::2])"
   ]
  },
  {
   "cell_type": "code",
   "execution_count": null,
   "id": "ca8316db-1653-4786-bb9e-65d4eee81162",
   "metadata": {},
   "outputs": [],
   "source": []
  }
 ],
 "metadata": {
  "kernelspec": {
   "display_name": "DOEmaddpg",
   "language": "python",
   "name": "doemaddpg"
  },
  "language_info": {
   "codemirror_mode": {
    "name": "ipython",
    "version": 3
   },
   "file_extension": ".py",
   "mimetype": "text/x-python",
   "name": "python",
   "nbconvert_exporter": "python",
   "pygments_lexer": "ipython3",
   "version": "3.12.4"
  }
 },
 "nbformat": 4,
 "nbformat_minor": 5
}
